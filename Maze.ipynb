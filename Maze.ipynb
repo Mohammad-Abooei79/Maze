{
 "cells": [
  {
   "cell_type": "code",
   "execution_count": 1,
   "id": "df5870c0",
   "metadata": {},
   "outputs": [],
   "source": [
    "from queue import PriorityQueue"
   ]
  },
  {
   "cell_type": "code",
   "execution_count": 2,
   "id": "d089e983",
   "metadata": {},
   "outputs": [],
   "source": [
    "# (down, up, left, right)\n",
    "directions = [(-1, 0), (1, 0), (0, -1), (0, 1)]"
   ]
  },
  {
   "cell_type": "code",
   "execution_count": 3,
   "id": "e0163a68",
   "metadata": {},
   "outputs": [],
   "source": [
    "def is_valid_move(maze, row, col):\n",
    "    return 0 <= row < len(maze) and 0 <= col < len(maze[0]) and maze[row][col] != 'X'"
   ]
  },
  {
   "cell_type": "markdown",
   "id": "3cd69efa",
   "metadata": {},
   "source": [
    "# Uniform Cost Search"
   ]
  },
  {
   "cell_type": "code",
   "execution_count": 4,
   "id": "6f6b6df6",
   "metadata": {},
   "outputs": [],
   "source": [
    "def maze_solver_ucs(maze, start, goal):\n",
    "    pq = PriorityQueue()\n",
    "    pq.put((0, start))  \n",
    "    visited = set()\n",
    "    visited.add(start)\n",
    "    parent = {}\n",
    "    cost = {start: 0} \n",
    "\n",
    "    while not pq.empty():\n",
    "        current_cost, (row, col) = pq.get()\n",
    "        if (row, col) == goal:\n",
    "            break\n",
    "        for dr, dc in directions:\n",
    "            new_row, new_col = row + dr, col + dc\n",
    "            if is_valid_move(maze, new_row, new_col) and (new_row, new_col) not in visited:\n",
    "                visited.add((new_row, new_col))\n",
    "                parent[(new_row, new_col)] = (row, col)\n",
    "                new_cost = current_cost + 1                   # Uniform cost = 1\n",
    "                cost[(new_row, new_col)] = new_cost\n",
    "                pq.put((new_cost, (new_row, new_col)))\n",
    "    \n",
    "    # path from start to goal\n",
    "    path = []\n",
    "    current = goal\n",
    "    while current != start:\n",
    "        path.append(current)\n",
    "        current = parent[current]\n",
    "    path.append(start)\n",
    "    path.reverse()\n",
    "\n",
    "    total_cost = cost[goal]\n",
    "\n",
    "    return path, total_cost"
   ]
  },
  {
   "cell_type": "code",
   "execution_count": 5,
   "id": "372058de",
   "metadata": {},
   "outputs": [],
   "source": [
    "maze = [\n",
    "    [' ', ' ', ' ', ' ', ' ',' ', ' ', ' ', ' '],\n",
    "    [' ', 'X', 'X', 'X', ' ','X', 'X', 'X', ' '],\n",
    "    [' ', ' ', ' ', 'X', ' ','X', ' ', 'X', ' '],\n",
    "    [' ', 'X', ' ', 'X', ' ','X', ' ', 'X', ' '],\n",
    "    [' ', 'X', ' ', 'X', ' ','X', ' ', 'X', ' '],\n",
    "    [' ', 'X', ' ', 'X', ' ',' ', ' ', 'X', ' '], \n",
    "    [' ', 'X', ' ', 'X', 'X','X', 'X', 'X', ' '],\n",
    "    [' ', 'X', ' ', ' ', ' ',' ', ' ', ' ', ' '],\n",
    "    [' ', 'X', ' ', 'X', 'X','X', 'X', ' ', ' ']\n",
    "    ]\n",
    "\n",
    "start = (0, 0)\n",
    "goal = (8, 7)\n",
    "\n",
    "shortest_path, total_cost = maze_solver_ucs(maze, start, goal)"
   ]
  },
  {
   "cell_type": "code",
   "execution_count": 6,
   "id": "aea7e115",
   "metadata": {},
   "outputs": [
    {
     "name": "stdout",
     "output_type": "stream",
     "text": [
      "\n",
      "Shortest Path:\n",
      "S                 \n",
      "* X X X   X X X   \n",
      "* * * X   X   X   \n",
      "  X * X   X   X   \n",
      "  X * X   X   X   \n",
      "  X * X       X   \n",
      "  X * X X X X X   \n",
      "  X * * * * * *   \n",
      "  X   X X X X G   \n",
      "\n",
      "Total Cost: 15\n"
     ]
    }
   ],
   "source": [
    "print(\"\\nShortest Path:\")\n",
    "for row in range(len(maze)):\n",
    "    for col in range(len(maze[0])):\n",
    "        if (row, col) == start:\n",
    "            print('S', end=' ')\n",
    "        elif (row, col) == goal:\n",
    "            print('G', end=' ')\n",
    "        elif (row, col) in shortest_path:\n",
    "            print('*', end=' ')\n",
    "        else:\n",
    "            print(maze[row][col], end=' ')\n",
    "    print()\n",
    "\n",
    "print(\"\\nTotal Cost:\", total_cost)"
   ]
  },
  {
   "cell_type": "markdown",
   "id": "de50cd69",
   "metadata": {},
   "source": [
    "# A*"
   ]
  },
  {
   "cell_type": "code",
   "execution_count": 7,
   "id": "7b6c26ac",
   "metadata": {},
   "outputs": [],
   "source": [
    "# heuristic function\n",
    "def manhattan_distance(cell, goal):\n",
    "    return abs(cell[0] - goal[0]) + abs(cell[1] - goal[1])"
   ]
  },
  {
   "cell_type": "code",
   "execution_count": 8,
   "id": "9523fe50",
   "metadata": {},
   "outputs": [],
   "source": [
    "def maze_solver_astar(maze, start, goal):\n",
    "    pq = PriorityQueue()\n",
    "    pq.put((0, start))  \n",
    "    visited = set()\n",
    "    visited.add(start)\n",
    "    parent = {}\n",
    "    cost = {start: 0}  \n",
    "\n",
    "    while not pq.empty():\n",
    "        current_cost, current_cell = pq.get()\n",
    "        if current_cell == goal:\n",
    "            break\n",
    "        for dr, dc in directions:\n",
    "            new_row, new_col = current_cell[0] + dr, current_cell[1] + dc\n",
    "            if is_valid_move(maze, new_row, new_col) and (new_row, new_col) not in visited:\n",
    "                visited.add((new_row, new_col))\n",
    "                parent[(new_row, new_col)] = current_cell\n",
    "                new_cost = cost[current_cell] + 1 \n",
    "                cost[(new_row, new_col)] = new_cost\n",
    "                priority = new_cost + manhattan_distance((new_row, new_col), goal)  # f = g + h\n",
    "                pq.put((priority, (new_row, new_col)))\n",
    "    \n",
    "    # path from start to goal\n",
    "    path = []\n",
    "    current = goal\n",
    "    while current != start:\n",
    "        path.append(current)\n",
    "        current = parent[current]\n",
    "    path.append(start)\n",
    "    path.reverse()\n",
    "\n",
    "    total_cost = cost[goal]\n",
    "\n",
    "    return path, total_cost"
   ]
  },
  {
   "cell_type": "code",
   "execution_count": 9,
   "id": "5eedd93a",
   "metadata": {},
   "outputs": [],
   "source": [
    "maze = [\n",
    "    [' ', ' ', ' ', ' ', ' ',' ', ' ', ' ', ' '],\n",
    "    [' ', 'X', 'X', 'X', ' ','X', 'X', 'X', ' '],\n",
    "    [' ', ' ', ' ', 'X', ' ','X', ' ', 'X', ' '],\n",
    "    [' ', 'X', ' ', 'X', ' ','X', ' ', 'X', ' '],\n",
    "    [' ', 'X', ' ', 'X', ' ','X', ' ', 'X', ' '],\n",
    "    [' ', 'X', ' ', 'X', ' ',' ', ' ', 'X', ' '], \n",
    "    [' ', 'X', ' ', 'X', 'X','X', 'X', 'X', ' '],\n",
    "    [' ', 'X', ' ', ' ', ' ',' ', ' ', ' ', ' '],\n",
    "    [' ', 'X', ' ', 'X', 'X','X', 'X', ' ', ' ']\n",
    "    ]\n",
    "\n",
    "start = (0, 0)\n",
    "goal = (8, 7)"
   ]
  },
  {
   "cell_type": "code",
   "execution_count": 10,
   "id": "f39742e1",
   "metadata": {},
   "outputs": [
    {
     "name": "stdout",
     "output_type": "stream",
     "text": [
      "Shortest Path:\n",
      "S                 \n",
      "* X X X   X X X   \n",
      "* * * X   X   X   \n",
      "  X * X   X   X   \n",
      "  X * X   X   X   \n",
      "  X * X       X   \n",
      "  X * X X X X X   \n",
      "  X * * * * * *   \n",
      "  X   X X X X E   \n",
      "\n",
      "Total Cost: 15\n"
     ]
    }
   ],
   "source": [
    "shortest_path, total_cost = maze_solver_astar(maze, start, goal)\n",
    "\n",
    "# Print the shortest path\n",
    "print(\"Shortest Path:\")\n",
    "for row in range(len(maze)):\n",
    "    for col in range(len(maze[0])):\n",
    "        if (row, col) == start:\n",
    "            print('S', end=' ')\n",
    "        elif (row, col) == goal:\n",
    "            print('E', end=' ')\n",
    "        elif (row, col) in shortest_path:\n",
    "            print('*', end=' ')\n",
    "        else:\n",
    "            print(maze[row][col], end=' ')\n",
    "    print()\n",
    "\n",
    "print(\"\\nTotal Cost:\", total_cost)"
   ]
  },
  {
   "cell_type": "code",
   "execution_count": null,
   "id": "8fb7293a",
   "metadata": {},
   "outputs": [],
   "source": []
  }
 ],
 "metadata": {
  "kernelspec": {
   "display_name": "Python 3 (ipykernel)",
   "language": "python",
   "name": "python3"
  },
  "language_info": {
   "codemirror_mode": {
    "name": "ipython",
    "version": 3
   },
   "file_extension": ".py",
   "mimetype": "text/x-python",
   "name": "python",
   "nbconvert_exporter": "python",
   "pygments_lexer": "ipython3",
   "version": "3.11.5"
  }
 },
 "nbformat": 4,
 "nbformat_minor": 5
}
